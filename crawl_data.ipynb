{
 "cells": [
  {
   "cell_type": "code",
   "execution_count": 10,
   "id": "517aeb91",
   "metadata": {},
   "outputs": [],
   "source": [
    "import requests\n",
    "from bs4 import BeautifulSoup\n",
    "\n",
    "def crawl_wikipedia(url, output_file):\n",
    "    headers = {'User-Agent': 'Mozilla/5.0'}\n",
    "    response = requests.get(url, headers=headers)\n",
    "    \n",
    "    if response.status_code != 200:\n",
    "        print(f\"Lỗi khi truy cập {url}: {response.status_code}\")\n",
    "        return\n",
    "\n",
    "    soup = BeautifulSoup(response.text, 'html.parser')\n",
    "    content_div = soup.find('div', {'id': 'bodyContent'})\n",
    "    paragraphs = content_div.find_all('p')\n",
    "\n",
    "    with open(output_file, 'w', encoding='utf-8') as f:\n",
    "        for para in paragraphs:\n",
    "            for sup in para.find_all('sup'):\n",
    "                sup.decompose()  # Xóa chú thích như [1], [2]\n",
    "            text = para.get_text().strip()\n",
    "            if text:\n",
    "                f.write(text + '\\n\\n')\n",
    "\n",
    "    print(f\"✅ Đã lưu nội dung từ {url} vào '{output_file}'\")\n",
    "\n",
    "# Ví dụ sử dụng:\n",
    "# crawl_wikipedia(\"https://en.wikipedia.org/wiki/Pittsburgh\", \"pittsburgh.txt\")\n"
   ]
  },
  {
   "cell_type": "code",
   "execution_count": 11,
   "id": "e6dda932",
   "metadata": {},
   "outputs": [
    {
     "name": "stdout",
     "output_type": "stream",
     "text": [
      "✅ Đã lưu nội dung từ https://en.wikipedia.org/wiki/Pittsburgh vào 'pittsburgh.txt'\n",
      "✅ Đã lưu nội dung từ https://en.wikipedia.org/wiki/History_of_Pittsburgh vào 'history_of_pittsburgh.txt'\n"
     ]
    }
   ],
   "source": [
    "url1 = \"https://en.wikipedia.org/wiki/Pittsburgh\"\n",
    "url2 = \"https://en.wikipedia.org/wiki/History_of_Pittsburgh\"\n",
    "output_file1 = \"pittsburgh.txt\"\n",
    "output_file2 = \"history_of_pittsburgh.txt\"\n",
    "\n",
    "crawl_wikipedia(url1, output_file1)\n",
    "crawl_wikipedia(url2, output_file2)"
   ]
  },
  {
   "cell_type": "code",
   "execution_count": null,
   "id": "cddd4240",
   "metadata": {},
   "outputs": [],
   "source": [
    "import requests\n",
    "from bs4 import BeautifulSoup\n",
    "\n",
    "def crawl_britannica(url, output_file):\n",
    "    headers = {'User-Agent': 'Mozilla/5.0'}\n",
    "    response = requests.get(url, headers=headers)\n",
    "\n",
    "    if response.status_code != 200:\n",
    "        print(f\"Lỗi khi truy cập {url}: {response.status_code}\")\n",
    "        return\n",
    "\n",
    "    soup = BeautifulSoup(response.text, 'html.parser')\n",
    "\n",
    "    with open(output_file, 'w', encoding='utf-8') as f:\n",
    "        # Lấy tiêu đề chính (h1)\n",
    "        title_tag = soup.find('h1')\n",
    "        if title_tag:\n",
    "            title = title_tag.get_text(strip=True)\n",
    "            f.write(f\"=== {title} ===\\n\\n\")\n",
    "        \n",
    "        # Lấy tất cả các đoạn văn <p>\n",
    "        paragraphs = soup.find_all('p')\n",
    "        for para in paragraphs:\n",
    "            text = para.get_text(strip=True)\n",
    "            if text:\n",
    "                f.write(text + '\\n\\n')\n",
    "\n",
    "    print(f\"✅ Đã lưu nội dung từ {url} vào '{output_file}'\")\n",
    "\n",
    "# Ví dụ sử dụng:\n",
    "# crawl_britannica(\"https://www.britannica.com/place/Pittsburgh\", \"pittsburgh_britannica.txt\")\n"
   ]
  },
  {
   "cell_type": "code",
   "execution_count": 15,
   "id": "718a27a8",
   "metadata": {},
   "outputs": [
    {
     "name": "stdout",
     "output_type": "stream",
     "text": [
      "✅ Đã lưu nội dung từ https://www.britannica.com/place/Pittsburgh vào 'pittsburgh_britannica.txt'\n"
     ]
    }
   ],
   "source": [
    "url = \"https://www.britannica.com/place/Pittsburgh\"\n",
    "output_file = \"pittsburgh_britannica.txt\"\n",
    "crawl_britannica(url, output_file)"
   ]
  }
 ],
 "metadata": {
  "kernelspec": {
   "display_name": "Python 3",
   "language": "python",
   "name": "python3"
  },
  "language_info": {
   "codemirror_mode": {
    "name": "ipython",
    "version": 3
   },
   "file_extension": ".py",
   "mimetype": "text/x-python",
   "name": "python",
   "nbconvert_exporter": "python",
   "pygments_lexer": "ipython3",
   "version": "3.10.0"
  }
 },
 "nbformat": 4,
 "nbformat_minor": 5
}
